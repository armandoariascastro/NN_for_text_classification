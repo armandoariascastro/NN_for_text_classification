{
  "nbformat": 4,
  "nbformat_minor": 0,
  "metadata": {
    "colab": {
      "provenance": [],
      "authorship_tag": "ABX9TyOEq4GXJmqFbOK0CV24tpBc",
      "include_colab_link": true
    },
    "kernelspec": {
      "name": "python3",
      "display_name": "Python 3"
    },
    "language_info": {
      "name": "python"
    }
  },
  "cells": [
    {
      "cell_type": "markdown",
      "metadata": {
        "id": "view-in-github",
        "colab_type": "text"
      },
      "source": [
        "<a href=\"https://colab.research.google.com/github/armandoariascastro/NN_for_text_classification/blob/main/Term_Project_ArmandoAriasCastro.ipynb\" target=\"_parent\"><img src=\"https://colab.research.google.com/assets/colab-badge.svg\" alt=\"Open In Colab\"/></a>"
      ]
    },
    {
      "cell_type": "code",
      "execution_count": 17,
      "metadata": {
        "colab": {
          "base_uri": "https://localhost:8080/"
        },
        "id": "lI13BuRSfJjJ",
        "outputId": "90668497-b622-4aa0-8cb4-c306181d2cb5"
      },
      "outputs": [
        {
          "output_type": "stream",
          "name": "stderr",
          "text": [
            "[nltk_data] Downloading package stopwords to /root/nltk_data...\n",
            "[nltk_data]   Package stopwords is already up-to-date!\n"
          ]
        },
        {
          "output_type": "execute_result",
          "data": {
            "text/plain": [
              "True"
            ]
          },
          "metadata": {},
          "execution_count": 17
        }
      ],
      "source": [
        "#Import libraries needed\n",
        "import numpy as np\n",
        "import pandas as pd\n",
        "import matplotlib.pyplot as plt\n",
        "import tensorflow as tf\n",
        "from tensorflow import keras\n",
        "from tensorflow.keras.preprocessing.text import Tokenizer\n",
        "from tensorflow.keras.preprocessing.sequence import pad_sequences\n",
        "import time\n",
        "import os\n",
        "import copy\n",
        "import re\n",
        "import string\n",
        "import nltk\n",
        "from nltk.corpus import stopwords\n",
        "nltk.download('stopwords')"
      ]
    },
    {
      "cell_type": "code",
      "source": [
        "#Read Training file as a dataframe\n",
        "df = pd.read_csv('train_data.csv', usecols = ['text', 'target'])\n",
        "data_1 =  copy.deepcopy(df)"
      ],
      "metadata": {
        "id": "jg10hlMjfdUD"
      },
      "execution_count": 18,
      "outputs": []
    },
    {
      "cell_type": "markdown",
      "source": [
        "Data pre-processing"
      ],
      "metadata": {
        "id": "-aU4zQ1I-iST"
      }
    },
    {
      "cell_type": "code",
      "source": [
        "#Auxiliary functions\n",
        "\n",
        "#Function to remove punctuation in the text\n",
        "def punctuation(text):\n",
        "    trans = str.maketrans(\"\", \"\", string.punctuation)\n",
        "    return text.translate(trans)\n",
        "\n",
        "#Function to remove url adrresses starting with https and www\n",
        "def url(text):\n",
        "    addr = re.compile(r\"https?://\\S+|www\\.\\S+\")\n",
        "    return addr.sub(r\"\", text)\n",
        "\n",
        "#Function to remove stopwords\n",
        "def stop_words(text):\n",
        "    word_set = set(stopwords.words('english'))\n",
        "    no_stopwords = [word.lower() for word in text.split() if word.lower() not in word_set]\n",
        "    return \" \".join(no_stopwords)\n",
        "\n",
        "#Count the number of unique words in the dataset\n",
        "from collections import Counter\n",
        "def word_counter(column):\n",
        "    counter = Counter()\n",
        "    for line in column.values:\n",
        "        for word in line.split():\n",
        "            counter[word] += 1\n",
        "    return counter"
      ],
      "metadata": {
        "id": "MulWguBay4X4"
      },
      "execution_count": 19,
      "outputs": []
    },
    {
      "cell_type": "code",
      "source": [
        "#Remove urls, punctuation, and stopwords from the training data\n",
        "data_1[\"text\"] = data_1.text.map(url)\n",
        "data_1[\"text\"] = data_1.text.map(punctuation)\n",
        "data_1[\"text\"] = data_1.text.map(stop_words)"
      ],
      "metadata": {
        "id": "tGsYjwyN-mhi"
      },
      "execution_count": 20,
      "outputs": []
    },
    {
      "cell_type": "code",
      "source": [
        "#Store all the unique words and the number of unique words\n",
        "count = word_counter(data_1.text)\n",
        "number_unique_words = len(count)"
      ],
      "metadata": {
        "id": "fOzzcb0roWiK"
      },
      "execution_count": 21,
      "outputs": []
    },
    {
      "cell_type": "code",
      "source": [
        "#Split training, validation, and test sets\n",
        "train, val, test = np.split(data_1.sample(frac=1), [int(0.8*len(data_1)), int(0.9*len(data_1))])\n",
        "\n",
        "#Split sets into text and labels and convert them to numpy arrays\n",
        "train_text = train.text.to_numpy()\n",
        "train_labels = train.target.to_numpy()\n",
        "valid_text = val.text.to_numpy()\n",
        "valid_labels = val.target.to_numpy()\n",
        "test_text = test.text.to_numpy()\n",
        "test_labels = test.target.to_numpy()"
      ],
      "metadata": {
        "id": "NT4j1ZW-yLD-"
      },
      "execution_count": 22,
      "outputs": []
    },
    {
      "cell_type": "code",
      "source": [
        "#Create a tokenizer\n",
        "tokenizer = Tokenizer(num_words=number_unique_words)\n",
        "tokenizer.fit_on_texts(train_text)                      #Fit the tokenizer with the training dataset\n",
        "\n",
        "#Tokenize all the words in the training, validation, and test datasets\n",
        "train_sequence = tokenizer.texts_to_sequences(train_text)\n",
        "valid_sequence = tokenizer.texts_to_sequences(valid_text)\n",
        "test_sequence = tokenizer.texts_to_sequences(test_text)"
      ],
      "metadata": {
        "id": "f3JHYgRb2iLB"
      },
      "execution_count": 23,
      "outputs": []
    },
    {
      "cell_type": "code",
      "source": [
        "#Add padding to the text so they all have the same length.\n",
        "#Using 25 as the maximum number of words in the sequence\n",
        "#Missing values are padded with 0\n",
        "train_text_padded = pad_sequences(train_sequence, maxlen=25, padding='post', truncating='post')\n",
        "valid_text_padded = pad_sequences(valid_sequence, maxlen=25, padding='post', truncating='post')\n",
        "test_text_padded = pad_sequences(test_sequence, maxlen=25, padding='post', truncating='post')"
      ],
      "metadata": {
        "id": "ttOvgo824gD_"
      },
      "execution_count": 24,
      "outputs": []
    },
    {
      "cell_type": "markdown",
      "source": [
        "Model 1"
      ],
      "metadata": {
        "id": "s6Xkya3nFadb"
      }
    },
    {
      "cell_type": "code",
      "source": [
        "from keras.src.layers import Dropout\n",
        "#Create the LSTM model\n",
        "from keras.src.layers.attention.multi_head_attention import activation\n",
        "from tensorflow.keras import layers\n",
        "\n",
        "model = keras.models.Sequential()\n",
        "model.add(layers.Embedding(number_unique_words, 32, input_length = 25))\n",
        "model.add(layers.LSTM(128, activation = 'relu'))\n",
        "model.add(Dropout(0.5))\n",
        "model.add(layers.Dense(128, activation='relu'))\n",
        "model.add(Dropout(0.5))\n",
        "model.add(layers.Dense(1, activation = 'sigmoid'))\n",
        "\n",
        "#Summary of the model showing all layers and number of parameters\n",
        "model.summary()"
      ],
      "metadata": {
        "colab": {
          "base_uri": "https://localhost:8080/"
        },
        "id": "y_1hVeb86ci4",
        "outputId": "3663072c-ecaf-4753-d01f-51e413cb158c"
      },
      "execution_count": 25,
      "outputs": [
        {
          "output_type": "stream",
          "name": "stdout",
          "text": [
            "Model: \"sequential_2\"\n",
            "_________________________________________________________________\n",
            " Layer (type)                Output Shape              Param #   \n",
            "=================================================================\n",
            " embedding_2 (Embedding)     (None, 25, 32)            575072    \n",
            "                                                                 \n",
            " lstm_1 (LSTM)               (None, 128)               82432     \n",
            "                                                                 \n",
            " dropout_2 (Dropout)         (None, 128)               0         \n",
            "                                                                 \n",
            " dense_4 (Dense)             (None, 128)               16512     \n",
            "                                                                 \n",
            " dropout_3 (Dropout)         (None, 128)               0         \n",
            "                                                                 \n",
            " dense_5 (Dense)             (None, 1)                 129       \n",
            "                                                                 \n",
            "=================================================================\n",
            "Total params: 674145 (2.57 MB)\n",
            "Trainable params: 674145 (2.57 MB)\n",
            "Non-trainable params: 0 (0.00 Byte)\n",
            "_________________________________________________________________\n"
          ]
        }
      ]
    },
    {
      "cell_type": "code",
      "source": [
        "#Compile the model\n",
        "model.compile(loss=keras.losses.BinaryCrossentropy(from_logits=False), optimizer=keras.optimizers.Adam(learning_rate = 0.001), metrics=['accuracy'])"
      ],
      "metadata": {
        "id": "MhPRQikS9qvA"
      },
      "execution_count": 26,
      "outputs": []
    },
    {
      "cell_type": "code",
      "source": [
        "#Fit the model\n",
        "history = model.fit(train_text_padded, train_labels, epochs = 10,  validation_data=(valid_text_padded, valid_labels), verbose = 2)"
      ],
      "metadata": {
        "colab": {
          "base_uri": "https://localhost:8080/"
        },
        "id": "9rjge28E-Z0U",
        "outputId": "40492b9d-d66d-4d59-e66e-f4546cacfc41"
      },
      "execution_count": 27,
      "outputs": [
        {
          "output_type": "stream",
          "name": "stdout",
          "text": [
            "Epoch 1/10\n",
            "191/191 - 11s - loss: 0.6087 - accuracy: 0.6714 - val_loss: 0.4631 - val_accuracy: 0.7898 - 11s/epoch - 56ms/step\n",
            "Epoch 2/10\n",
            "191/191 - 9s - loss: 0.3414 - accuracy: 0.8670 - val_loss: 0.4944 - val_accuracy: 0.7438 - 9s/epoch - 45ms/step\n",
            "Epoch 3/10\n",
            "191/191 - 8s - loss: 0.1874 - accuracy: 0.9330 - val_loss: 1.0231 - val_accuracy: 0.7674 - 8s/epoch - 41ms/step\n",
            "Epoch 4/10\n",
            "191/191 - 9s - loss: 0.1207 - accuracy: 0.9622 - val_loss: 0.6773 - val_accuracy: 0.7753 - 9s/epoch - 45ms/step\n",
            "Epoch 5/10\n",
            "191/191 - 9s - loss: 0.0818 - accuracy: 0.9732 - val_loss: 1.0831 - val_accuracy: 0.7608 - 9s/epoch - 46ms/step\n",
            "Epoch 6/10\n",
            "191/191 - 9s - loss: 0.0633 - accuracy: 0.9785 - val_loss: 0.9284 - val_accuracy: 0.7556 - 9s/epoch - 48ms/step\n",
            "Epoch 7/10\n",
            "191/191 - 8s - loss: 0.0611 - accuracy: 0.9793 - val_loss: 8.3039 - val_accuracy: 0.7530 - 8s/epoch - 43ms/step\n",
            "Epoch 8/10\n",
            "191/191 - 9s - loss: 0.0388 - accuracy: 0.9829 - val_loss: 14.2735 - val_accuracy: 0.7516 - 9s/epoch - 46ms/step\n",
            "Epoch 9/10\n",
            "191/191 - 8s - loss: 0.0293 - accuracy: 0.9837 - val_loss: 568.6106 - val_accuracy: 0.7477 - 8s/epoch - 40ms/step\n",
            "Epoch 10/10\n",
            "191/191 - 9s - loss: 0.1448 - accuracy: 0.9668 - val_loss: 7.9480 - val_accuracy: 0.7372 - 9s/epoch - 45ms/step\n"
          ]
        }
      ]
    },
    {
      "cell_type": "markdown",
      "source": [
        "Model 2"
      ],
      "metadata": {
        "id": "qVR5MjTTfftU"
      }
    },
    {
      "cell_type": "code",
      "source": [
        "model_2 = keras.models.Sequential()\n",
        "model_2.add(layers.Embedding(number_unique_words, 32, input_length=25))\n",
        "model_2.add(layers.Conv1D(32,3, padding = 'same', activation=\"relu\"))\n",
        "model_2.add(layers.MaxPooling1D())\n",
        "model_2.add(layers.Conv1D(64,3,activation=\"relu\"))\n",
        "model_2.add(layers.MaxPooling1D())\n",
        "model_2.add(layers.Flatten())\n",
        "model_2.add(layers.Dense(250,activation=\"relu\"))\n",
        "model_2.add(layers.Dense(1,activation=\"sigmoid\"))"
      ],
      "metadata": {
        "id": "HSrTRtVWHQ3v"
      },
      "execution_count": 28,
      "outputs": []
    },
    {
      "cell_type": "code",
      "source": [
        "#Compile the model\n",
        "model_2.compile(loss=keras.losses.BinaryCrossentropy(from_logits=False), optimizer=keras.optimizers.Adam(learning_rate = 0.001), metrics=['accuracy'])\n",
        "model_2.summary()"
      ],
      "metadata": {
        "colab": {
          "base_uri": "https://localhost:8080/"
        },
        "id": "OZawvpGbhdGZ",
        "outputId": "8ad17231-8be2-4e91-e826-27623ea3845a"
      },
      "execution_count": 29,
      "outputs": [
        {
          "output_type": "stream",
          "name": "stdout",
          "text": [
            "Model: \"sequential_3\"\n",
            "_________________________________________________________________\n",
            " Layer (type)                Output Shape              Param #   \n",
            "=================================================================\n",
            " embedding_3 (Embedding)     (None, 25, 32)            575072    \n",
            "                                                                 \n",
            " conv1d_2 (Conv1D)           (None, 25, 32)            3104      \n",
            "                                                                 \n",
            " max_pooling1d_2 (MaxPoolin  (None, 12, 32)            0         \n",
            " g1D)                                                            \n",
            "                                                                 \n",
            " conv1d_3 (Conv1D)           (None, 10, 64)            6208      \n",
            "                                                                 \n",
            " max_pooling1d_3 (MaxPoolin  (None, 5, 64)             0         \n",
            " g1D)                                                            \n",
            "                                                                 \n",
            " flatten_1 (Flatten)         (None, 320)               0         \n",
            "                                                                 \n",
            " dense_6 (Dense)             (None, 250)               80250     \n",
            "                                                                 \n",
            " dense_7 (Dense)             (None, 1)                 251       \n",
            "                                                                 \n",
            "=================================================================\n",
            "Total params: 664885 (2.54 MB)\n",
            "Trainable params: 664885 (2.54 MB)\n",
            "Non-trainable params: 0 (0.00 Byte)\n",
            "_________________________________________________________________\n"
          ]
        }
      ]
    },
    {
      "cell_type": "code",
      "source": [
        "#Fit the model\n",
        "history_2 = model_2.fit(train_text_padded, train_labels, epochs = 10,  validation_data=(valid_text_padded, valid_labels), verbose = 2)"
      ],
      "metadata": {
        "colab": {
          "base_uri": "https://localhost:8080/"
        },
        "id": "ryTKwEOzhghp",
        "outputId": "25c20985-66b0-4ca2-9dd7-3762e1a34630"
      },
      "execution_count": 30,
      "outputs": [
        {
          "output_type": "stream",
          "name": "stdout",
          "text": [
            "Epoch 1/10\n",
            "191/191 - 4s - loss: 0.5761 - accuracy: 0.6897 - val_loss: 0.4760 - val_accuracy: 0.7792 - 4s/epoch - 19ms/step\n",
            "Epoch 2/10\n",
            "191/191 - 3s - loss: 0.2709 - accuracy: 0.8957 - val_loss: 0.5154 - val_accuracy: 0.7845 - 3s/epoch - 16ms/step\n",
            "Epoch 3/10\n",
            "191/191 - 2s - loss: 0.1144 - accuracy: 0.9603 - val_loss: 0.6474 - val_accuracy: 0.7753 - 2s/epoch - 12ms/step\n",
            "Epoch 4/10\n",
            "191/191 - 2s - loss: 0.0702 - accuracy: 0.9770 - val_loss: 0.6834 - val_accuracy: 0.7740 - 2s/epoch - 12ms/step\n",
            "Epoch 5/10\n",
            "191/191 - 2s - loss: 0.0502 - accuracy: 0.9831 - val_loss: 0.7574 - val_accuracy: 0.7766 - 2s/epoch - 12ms/step\n",
            "Epoch 6/10\n",
            "191/191 - 2s - loss: 0.0404 - accuracy: 0.9846 - val_loss: 0.8134 - val_accuracy: 0.7714 - 2s/epoch - 12ms/step\n",
            "Epoch 7/10\n",
            "191/191 - 3s - loss: 0.0346 - accuracy: 0.9849 - val_loss: 0.8294 - val_accuracy: 0.7661 - 3s/epoch - 15ms/step\n",
            "Epoch 8/10\n",
            "191/191 - 2s - loss: 0.0300 - accuracy: 0.9862 - val_loss: 0.8474 - val_accuracy: 0.7648 - 2s/epoch - 13ms/step\n",
            "Epoch 9/10\n",
            "191/191 - 2s - loss: 0.0276 - accuracy: 0.9872 - val_loss: 0.9930 - val_accuracy: 0.7740 - 2s/epoch - 12ms/step\n",
            "Epoch 10/10\n",
            "191/191 - 2s - loss: 0.0257 - accuracy: 0.9864 - val_loss: 0.9846 - val_accuracy: 0.7687 - 2s/epoch - 12ms/step\n"
          ]
        }
      ]
    },
    {
      "cell_type": "code",
      "source": [
        "# Summarize history for accuracy model 2\n",
        "plt.figure(figsize=(10, 5))\n",
        "plt.subplot(1, 2, 1)\n",
        "plt.plot(history.history['accuracy'])\n",
        "plt.plot(history_2.history['accuracy'])\n",
        "plt.title('model 1 vs model 2 accuracy')\n",
        "plt.ylabel('accuracy')\n",
        "plt.xlabel('epoch')\n",
        "plt.legend(['model 1 acc', 'model 2 acc'])\n",
        "plt.subplot(1, 2, 2)\n",
        "plt.plot(history.history['loss'])\n",
        "plt.plot(history_2.history['loss'])\n",
        "plt.title('model 1 vs model 2 loss')\n",
        "plt.ylabel('loss')\n",
        "plt.xlabel('epoch')\n",
        "plt.legend(['model 1 loss', 'model 2 loss'])\n",
        "plt.tight_layout()\n",
        "plt.show()"
      ],
      "metadata": {
        "colab": {
          "base_uri": "https://localhost:8080/",
          "height": 507
        },
        "id": "xBiX-_t6m3cd",
        "outputId": "2616375d-9700-4bca-a861-e7952955ef07"
      },
      "execution_count": 31,
      "outputs": [
        {
          "output_type": "display_data",
          "data": {
            "text/plain": [
              "<Figure size 1000x500 with 2 Axes>"
            ],
            "image/png": "[encoded data removed]"
          },
          "metadata": {}
        }
      ]
    },
    {
      "cell_type": "code",
      "source": [
        "test_loss, test_acc = model.evaluate(test_text_padded, test_labels, verbose=0)\n",
        "test_loss_2, test_acc_2 = model_2.evaluate(test_text_padded, test_labels, verbose=0)\n",
        "print('Test accuracy model 1:', test_acc)\n",
        "print('Loss model 1:', test_loss)\n",
        "print('Test accuracy model 2:', test_acc_2)\n",
        "print('Loss model 2:', test_loss_2)"
      ],
      "metadata": {
        "colab": {
          "base_uri": "https://localhost:8080/"
        },
        "id": "pGwfrMVZn3yu",
        "outputId": "a63f337c-a18a-4870-f80d-fd4faa4a0519"
      },
      "execution_count": 32,
      "outputs": [
        {
          "output_type": "stream",
          "name": "stdout",
          "text": [
            "Test accuracy model 1: 0.7559055089950562\n",
            "Loss model 1: 8.958139419555664\n",
            "Test accuracy model 2: 0.7755905389785767\n",
            "Loss model 2: 0.9415967464447021\n"
          ]
        }
      ]
    }
  ]
}